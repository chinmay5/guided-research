{
  "nbformat": 4,
  "nbformat_minor": 0,
  "metadata": {
    "colab": {
      "name": "Guided-LSTM.ipynb",
      "provenance": [],
      "collapsed_sections": [],
      "toc_visible": true,
      "include_colab_link": true
    },
    "kernelspec": {
      "name": "python3",
      "display_name": "Python 3"
    },
    "accelerator": "GPU"
  },
  "cells": [
    {
      "cell_type": "markdown",
      "metadata": {
        "id": "view-in-github",
        "colab_type": "text"
      },
      "source": [
        "<a href=\"https://colab.research.google.com/github/chinmay5/guided-research/blob/colab/Guided_LSTM.ipynb\" target=\"_parent\"><img src=\"https://colab.research.google.com/assets/colab-badge.svg\" alt=\"Open In Colab\"/></a>"
      ]
    },
    {
      "cell_type": "code",
      "metadata": {
        "id": "nUEgRNmWuXym",
        "colab_type": "code",
        "outputId": "31b2f1cd-1a54-4280-9a8c-020f29aa9a99",
        "colab": {
          "base_uri": "https://localhost:8080/",
          "height": 87
        }
      },
      "source": [
        "#installing all the libraries needed for the task\n",
        "import pandas as pd\n",
        "import json\n",
        "import nltk\n",
        "from pandas.io.json import json_normalize\n",
        "nltk.download('stopwords')\n",
        "nltk.download('punkt')\n",
        "import re  \n",
        "from nltk.corpus import stopwords\n",
        "stops1 = set(stopwords.words(\"english\"))\n",
        "from Vocabulary import Vocab\n",
        "import pickle\n",
        "from torch.utils.data.sampler import Sampler\n",
        "import time\n",
        "import ipywidgets\n",
        "import traitlets\n",
        "from sklearn.manifold import TSNE\n",
        "%matplotlib inline\n",
        "import matplotlib.pyplot as plt"
      ],
      "execution_count": 1,
      "outputs": [
        {
          "output_type": "stream",
          "text": [
            "[nltk_data] Downloading package stopwords to /root/nltk_data...\n",
            "[nltk_data]   Unzipping corpora/stopwords.zip.\n",
            "[nltk_data] Downloading package punkt to /root/nltk_data...\n",
            "[nltk_data]   Unzipping tokenizers/punkt.zip.\n"
          ],
          "name": "stdout"
        }
      ]
    },
    {
      "cell_type": "code",
      "metadata": {
        "id": "Uyt5-NDhufaS",
        "colab_type": "code",
        "colab": {}
      },
      "source": [
        "processed_df = pd.read_pickle('./processed_df.pkl')"
      ],
      "execution_count": 0,
      "outputs": []
    },
    {
      "cell_type": "markdown",
      "metadata": {
        "id": "IqpBLKBHSaXb",
        "colab_type": "text"
      },
      "source": [
        "#### These are the Vocabularies that are loaded via the files"
      ]
    },
    {
      "cell_type": "code",
      "metadata": {
        "id": "ss01o4HiSfox",
        "colab_type": "code",
        "colab": {}
      },
      "source": [
        "with open('vocab_combined.pkl','rb') as file:\n",
        "    recipe_vocabulary = pickle.load(file)\n",
        "    ingredient_vocabulary = pickle.load(file)"
      ],
      "execution_count": 0,
      "outputs": []
    },
    {
      "cell_type": "code",
      "metadata": {
        "id": "EypFef9Iu3ww",
        "colab_type": "code",
        "colab": {}
      },
      "source": [
        "from sklearn.model_selection import train_test_split\n",
        "df_train, df_test = train_test_split(processed_df, test_size = 0.2, random_state = 0,\n",
        "                                     stratify=processed_df.Recipe_id_numeric)"
      ],
      "execution_count": 0,
      "outputs": []
    },
    {
      "cell_type": "markdown",
      "metadata": {
        "id": "VczddQ3ZvESR",
        "colab_type": "text"
      },
      "source": [
        "## Neural Network Part"
      ]
    },
    {
      "cell_type": "code",
      "metadata": {
        "id": "o_lRNaeUvHc8",
        "colab_type": "code",
        "colab": {}
      },
      "source": [
        "# Some constants\n",
        "batch_size = 1000\n",
        "num_epoch = 40"
      ],
      "execution_count": 0,
      "outputs": []
    },
    {
      "cell_type": "code",
      "metadata": {
        "id": "KYSifo5xxRVU",
        "colab_type": "code",
        "colab": {}
      },
      "source": [
        "from RecipeData import collate_fn\n",
        "from RecipeData import RecipeData\n",
        "import torch"
      ],
      "execution_count": 0,
      "outputs": []
    },
    {
      "cell_type": "code",
      "metadata": {
        "id": "fKfkbDRTFbPg",
        "colab_type": "code",
        "colab": {}
      },
      "source": [
        "class_sample_count_train = df_train.Recipe_id_numeric.value_counts()\n",
        "class_sample_count_val = df_test.Recipe_id_numeric.value_counts()"
      ],
      "execution_count": 0,
      "outputs": []
    },
    {
      "cell_type": "code",
      "metadata": {
        "id": "tHw7xpfCMzDn",
        "colab_type": "code",
        "colab": {}
      },
      "source": [
        "# Class is imbalanced so let's handle this by weighted sampling\n",
        "# weights = 1 / torch.Tensor(class_sample_count_train)\n",
        "# sampler = torch.utils.data.sampler.WeightedRandomSampler(weights, batch_size)\n",
        "train_dataset = RecipeData(df_train)\n",
        "train_data_loader = torch.utils.data.DataLoader(dataset=train_dataset,\n",
        "                                           batch_size=batch_size,\n",
        "                                           collate_fn=collate_fn,\n",
        "                                           drop_last=True,\n",
        "                                          #  sampler = sampler\n",
        "                                           )"
      ],
      "execution_count": 0,
      "outputs": []
    },
    {
      "cell_type": "code",
      "metadata": {
        "id": "zdpY4qExEmim",
        "colab_type": "code",
        "colab": {}
      },
      "source": [
        "test_dataset = RecipeData(df_test)\n",
        "# weights = 1 / torch.Tensor(class_sample_count_val)\n",
        "# sampler = torch.utils.data.sampler.WeightedRandomSampler()\n",
        "test_data_loader = torch.utils.data.DataLoader(dataset=test_dataset, # of the batch_size\n",
        "                                              batch_size=batch_size,\n",
        "                                              collate_fn=collate_fn,\n",
        "                                              drop_last=True,\n",
        "                                              # sampler=sampler\n",
        "                                               )"
      ],
      "execution_count": 0,
      "outputs": []
    },
    {
      "cell_type": "code",
      "metadata": {
        "id": "k1o7a9BPvSea",
        "colab_type": "code",
        "outputId": "f6da9edb-e10f-45b2-b7a7-04653121fa27",
        "colab": {
          "base_uri": "https://localhost:8080/",
          "height": 35
        }
      },
      "source": [
        "df_train.Recipe_id_numeric[4]"
      ],
      "execution_count": 12,
      "outputs": [
        {
          "output_type": "execute_result",
          "data": {
            "text/plain": [
              "27"
            ]
          },
          "metadata": {
            "tags": []
          },
          "execution_count": 12
        }
      ]
    },
    {
      "cell_type": "code",
      "metadata": {
        "id": "2TUw5ZEavUid",
        "colab_type": "code",
        "outputId": "fe1255d6-2ec3-41db-ded2-e2fefc943f37",
        "colab": {
          "base_uri": "https://localhost:8080/",
          "height": 35
        }
      },
      "source": [
        "train_dataset[0]"
      ],
      "execution_count": 13,
      "outputs": [
        {
          "output_type": "execute_result",
          "data": {
            "text/plain": [
              "(tensor([557,  20,  19,  38, 142,   3,  49]), tensor(11))"
            ]
          },
          "metadata": {
            "tags": []
          },
          "execution_count": 13
        }
      ]
    },
    {
      "cell_type": "code",
      "metadata": {
        "id": "ySCeHYf4wotf",
        "colab_type": "code",
        "outputId": "796e1096-d58b-4dd8-e49f-7e8431a58a69",
        "colab": {
          "base_uri": "https://localhost:8080/",
          "height": 35
        }
      },
      "source": [
        "# Moving things to GPU\n",
        "device = torch.device(\"cuda\" if torch.cuda.is_available() else \"cpu\")\n",
        "print(device)"
      ],
      "execution_count": 15,
      "outputs": [
        {
          "output_type": "stream",
          "text": [
            "cuda\n"
          ],
          "name": "stdout"
        }
      ]
    },
    {
      "cell_type": "code",
      "metadata": {
        "id": "gbIWdzHt5lEw",
        "colab_type": "code",
        "colab": {}
      },
      "source": [
        ""
      ],
      "execution_count": 0,
      "outputs": []
    },
    {
      "cell_type": "code",
      "metadata": {
        "id": "HXk6NQ0g5lCq",
        "colab_type": "code",
        "colab": {}
      },
      "source": [
        "from Networks import EmbeddingNetwork\n",
        "from Networks import ClassificationNetwork"
      ],
      "execution_count": 0,
      "outputs": []
    },
    {
      "cell_type": "code",
      "metadata": {
        "id": "fLHwSBKyvioY",
        "colab_type": "code",
        "colab": {}
      },
      "source": [
        "# These are some constants that I am just copying here\n",
        "# These need to be updated based on the files\n",
        "ingredient_vocabulary = 1152\n",
        "recipe_vocabulary = 33\n",
        "vocab_size = ingredient_vocabulary + 1\n",
        "num_recipes = recipe_vocabulary + 1\n",
        "hidden_dim = 128\n",
        "embedding_dim = 300"
      ],
      "execution_count": 0,
      "outputs": []
    },
    {
      "cell_type": "code",
      "metadata": {
        "id": "TaOZEq4H5k_8",
        "colab_type": "code",
        "colab": {}
      },
      "source": [
        "embedding_model = EmbeddingNetwork(vocab_size=vocab_size, \n",
        "                                   hidden_dim=hidden_dim, embedding_dim=embedding_dim)"
      ],
      "execution_count": 0,
      "outputs": []
    },
    {
      "cell_type": "code",
      "metadata": {
        "id": "2NTr8pXJ8b24",
        "colab_type": "code",
        "colab": {}
      },
      "source": [
        "model = ClassificationNetwork(embedding_model=embedding_model, \n",
        "                              hidden_dim=hidden_dim,\n",
        "                              num_classes=vocab_size)"
      ],
      "execution_count": 0,
      "outputs": []
    },
    {
      "cell_type": "markdown",
      "metadata": {
        "id": "nIP9G3HYF4tA",
        "colab_type": "text"
      },
      "source": [
        "### I did not put hidden state on cuda and that was an issue. So, it has been corrected"
      ]
    },
    {
      "cell_type": "code",
      "metadata": {
        "id": "BiQj9hZ9Fnjr",
        "colab_type": "code",
        "outputId": "28044d2d-1091-4bb3-a3b3-16d148eec0fa",
        "colab": {
          "base_uri": "https://localhost:8080/",
          "height": 139
        }
      },
      "source": [
        "model.to(device)"
      ],
      "execution_count": 20,
      "outputs": [
        {
          "output_type": "execute_result",
          "data": {
            "text/plain": [
              "ClassificationNetwork(\n",
              "  (embedding_model): EmbeddingNetwork(\n",
              "    (embedding): Embedding(1153, 300)\n",
              "    (lstm): LSTM(300, 128)\n",
              "  )\n",
              "  (linear): Linear(in_features=128, out_features=1153, bias=True)\n",
              ")"
            ]
          },
          "metadata": {
            "tags": []
          },
          "execution_count": 20
        }
      ]
    },
    {
      "cell_type": "markdown",
      "metadata": {
        "id": "R7hXmWlfweTd",
        "colab_type": "text"
      },
      "source": [
        "## Put loss function and categories"
      ]
    },
    {
      "cell_type": "code",
      "metadata": {
        "id": "rY3ua9PjwaDb",
        "colab_type": "code",
        "colab": {}
      },
      "source": [
        "lr = 1e-3\n",
        "criterion = torch.nn.CrossEntropyLoss()\n",
        "optimizer = torch.optim.Adam(model.parameters(), lr=lr)"
      ],
      "execution_count": 0,
      "outputs": []
    },
    {
      "cell_type": "code",
      "metadata": {
        "id": "7Y5PcLdrwhYb",
        "colab_type": "code",
        "colab": {}
      },
      "source": [
        ""
      ],
      "execution_count": 0,
      "outputs": []
    },
    {
      "cell_type": "code",
      "metadata": {
        "id": "m4-G8nsMw_yC",
        "colab_type": "code",
        "colab": {}
      },
      "source": [
        "def put_elements_to_device(a,b,c,device):\n",
        "    return a.to(device), b.to(device), c.to(device)"
      ],
      "execution_count": 0,
      "outputs": []
    },
    {
      "cell_type": "code",
      "metadata": {
        "id": "K_AIg_EfxEGI",
        "colab_type": "code",
        "colab": {}
      },
      "source": [
        "# !pip install -q tb-nightly\n",
        "\n",
        "# Load the TensorBoard notebook extension\n",
        "%load_ext tensorboard"
      ],
      "execution_count": 0,
      "outputs": []
    },
    {
      "cell_type": "code",
      "metadata": {
        "id": "dqaoUggYxHN8",
        "colab_type": "code",
        "outputId": "b545b903-cf8d-45cd-894d-490dbd42a8de",
        "colab": {
          "base_uri": "https://localhost:8080/",
          "height": 81
        }
      },
      "source": [
        "from torch.utils.tensorboard import SummaryWriter\n",
        "writer = SummaryWriter()"
      ],
      "execution_count": 25,
      "outputs": [
        {
          "output_type": "display_data",
          "data": {
            "text/html": [
              "<p style=\"color: red;\">\n",
              "The default version of TensorFlow in Colab will soon switch to TensorFlow 2.x.<br>\n",
              "We recommend you <a href=\"https://www.tensorflow.org/guide/migrate\" target=\"_blank\">upgrade</a> now \n",
              "or ensure your notebook will continue to use TensorFlow 1.x via the <code>%tensorflow_version 1.x</code> magic:\n",
              "<a href=\"https://colab.research.google.com/notebooks/tensorflow_version.ipynb\" target=\"_blank\">more info</a>.</p>\n"
            ],
            "text/plain": [
              "<IPython.core.display.HTML object>"
            ]
          },
          "metadata": {
            "tags": []
          }
        }
      ]
    },
    {
      "cell_type": "code",
      "metadata": {
        "id": "IMXBPIJRG96w",
        "colab_type": "code",
        "outputId": "88339cde-d7b3-4458-fd1c-cd711498df58",
        "colab": {
          "base_uri": "https://localhost:8080/",
          "height": 52
        }
      },
      "source": [
        "print(len(train_data_loader) * batch_size)\n",
        "print(len(train_dataset))\n",
        "# Not same since we are dropping some terms which do not match up\n",
        "N_train = len(train_data_loader) * batch_size\n",
        "N_test = len(test_data_loader) * batch_size"
      ],
      "execution_count": 29,
      "outputs": [
        {
          "output_type": "stream",
          "text": [
            "79000\n",
            "79948\n"
          ],
          "name": "stdout"
        }
      ]
    },
    {
      "cell_type": "code",
      "metadata": {
        "id": "CoI8ALwwWnhx",
        "colab_type": "code",
        "colab": {}
      },
      "source": [
        "save_model_name = \"./lstm_model_epoch-{}\""
      ],
      "execution_count": 0,
      "outputs": []
    },
    {
      "cell_type": "code",
      "metadata": {
        "id": "upzCHjdDxKfh",
        "colab_type": "code",
        "outputId": "29549e25-43d8-45a6-ee03-57e2e083de2c",
        "colab": {
          "base_uri": "https://localhost:8080/",
          "height": 1000
        }
      },
      "source": [
        "for epoch in range(num_epoch):\n",
        "    running_loss = 0\n",
        "    correct = 0\n",
        "    total = 0\n",
        "    for idx,(X,X_len,y) in enumerate(train_data_loader):\n",
        "        # model.train()No batch norm used yet\n",
        "        model.zero_grad()\n",
        "        X, X_len, y = put_elements_to_device(a=X, b=torch.tensor(X_len), c=y, device=device)\n",
        "        outputs = model(X, X_len)\n",
        "        loss = criterion(outputs, y)\n",
        "        loss.backward(retain_graph=True)\n",
        "        optimizer.step()\n",
        "        _, predicted = torch.max(outputs.data, 1)\n",
        "        running_loss =+ loss.item() * X.size(0)\n",
        "        total += X.size(0)\n",
        "        correct += (predicted == y).sum().item()\n",
        "    print('Accuracy of the network on the train samples: %d %%' % (\n",
        "        100 * correct / total))\n",
        "    # writer.add_scalar('Loss/train', running_loss/N_train, epoch)\n",
        "    # validation set is still left to create\n",
        "    # Now to test the validation set\n",
        "    correct = 0\n",
        "    total = 0\n",
        "    test_loss = 0\n",
        "    with torch.no_grad():\n",
        "        for idx,(X,X_len,y) in enumerate(test_data_loader):\n",
        "            X, X_len, y = put_elements_to_device(a=X, b=torch.tensor(X_len), c=y, device=device)\n",
        "            outputs = model(X,X_len)\n",
        "            loss = criterion(outputs, y)\n",
        "            test_loss += loss.item() * X.size(0)\n",
        "            _, predicted = torch.max(outputs.data, 1)\n",
        "            total += X.size(0)\n",
        "            correct += (predicted == y).sum().item()\n",
        "    # writer.add_scalar('Loss/test', test_loss/N_test, epoch)\n",
        "    writer.add_scalars('loss_curves',\n",
        "                       {'train':running_loss/len(train_dataset), 'test':test_loss/len(test_dataset)},\n",
        "                       epoch)\n",
        "    print('Accuracy of the network on the test samples: %d %%' % (\n",
        "        100 * correct / total))\n",
        "    torch.save(model.state_dict(),save_model_name.format(epoch))    \n",
        "            "
      ],
      "execution_count": 31,
      "outputs": [
        {
          "output_type": "stream",
          "text": [
            "Accuracy of the network on the train samples: 60 %\n",
            "Accuracy of the network on the test samples: 65 %\n",
            "Accuracy of the network on the train samples: 69 %\n",
            "Accuracy of the network on the test samples: 71 %\n",
            "Accuracy of the network on the train samples: 72 %\n",
            "Accuracy of the network on the test samples: 72 %\n",
            "Accuracy of the network on the train samples: 73 %\n",
            "Accuracy of the network on the test samples: 73 %\n",
            "Accuracy of the network on the train samples: 74 %\n",
            "Accuracy of the network on the test samples: 73 %\n",
            "Accuracy of the network on the train samples: 75 %\n",
            "Accuracy of the network on the test samples: 73 %\n",
            "Accuracy of the network on the train samples: 75 %\n",
            "Accuracy of the network on the test samples: 73 %\n",
            "Accuracy of the network on the train samples: 76 %\n",
            "Accuracy of the network on the test samples: 73 %\n",
            "Accuracy of the network on the train samples: 76 %\n",
            "Accuracy of the network on the test samples: 73 %\n",
            "Accuracy of the network on the train samples: 76 %\n",
            "Accuracy of the network on the test samples: 73 %\n",
            "Accuracy of the network on the train samples: 77 %\n",
            "Accuracy of the network on the test samples: 73 %\n",
            "Accuracy of the network on the train samples: 77 %\n",
            "Accuracy of the network on the test samples: 73 %\n",
            "Accuracy of the network on the train samples: 78 %\n",
            "Accuracy of the network on the test samples: 73 %\n",
            "Accuracy of the network on the train samples: 78 %\n",
            "Accuracy of the network on the test samples: 73 %\n",
            "Accuracy of the network on the train samples: 79 %\n",
            "Accuracy of the network on the test samples: 73 %\n",
            "Accuracy of the network on the train samples: 79 %\n",
            "Accuracy of the network on the test samples: 73 %\n",
            "Accuracy of the network on the train samples: 80 %\n",
            "Accuracy of the network on the test samples: 73 %\n",
            "Accuracy of the network on the train samples: 81 %\n",
            "Accuracy of the network on the test samples: 72 %\n",
            "Accuracy of the network on the train samples: 81 %\n",
            "Accuracy of the network on the test samples: 72 %\n",
            "Accuracy of the network on the train samples: 82 %\n",
            "Accuracy of the network on the test samples: 72 %\n",
            "Accuracy of the network on the train samples: 82 %\n",
            "Accuracy of the network on the test samples: 72 %\n",
            "Accuracy of the network on the train samples: 83 %\n",
            "Accuracy of the network on the test samples: 72 %\n",
            "Accuracy of the network on the train samples: 84 %\n",
            "Accuracy of the network on the test samples: 71 %\n",
            "Accuracy of the network on the train samples: 84 %\n",
            "Accuracy of the network on the test samples: 71 %\n",
            "Accuracy of the network on the train samples: 85 %\n",
            "Accuracy of the network on the test samples: 71 %\n",
            "Accuracy of the network on the train samples: 85 %\n",
            "Accuracy of the network on the test samples: 71 %\n",
            "Accuracy of the network on the train samples: 86 %\n",
            "Accuracy of the network on the test samples: 71 %\n",
            "Accuracy of the network on the train samples: 87 %\n",
            "Accuracy of the network on the test samples: 71 %\n",
            "Accuracy of the network on the train samples: 87 %\n",
            "Accuracy of the network on the test samples: 71 %\n",
            "Accuracy of the network on the train samples: 87 %\n",
            "Accuracy of the network on the test samples: 71 %\n",
            "Accuracy of the network on the train samples: 87 %\n",
            "Accuracy of the network on the test samples: 70 %\n",
            "Accuracy of the network on the train samples: 87 %\n",
            "Accuracy of the network on the test samples: 69 %\n",
            "Accuracy of the network on the train samples: 88 %\n",
            "Accuracy of the network on the test samples: 70 %\n",
            "Accuracy of the network on the train samples: 88 %\n",
            "Accuracy of the network on the test samples: 69 %\n",
            "Accuracy of the network on the train samples: 88 %\n",
            "Accuracy of the network on the test samples: 70 %\n",
            "Accuracy of the network on the train samples: 89 %\n",
            "Accuracy of the network on the test samples: 71 %\n",
            "Accuracy of the network on the train samples: 90 %\n",
            "Accuracy of the network on the test samples: 71 %\n",
            "Accuracy of the network on the train samples: 90 %\n",
            "Accuracy of the network on the test samples: 71 %\n",
            "Accuracy of the network on the train samples: 90 %\n",
            "Accuracy of the network on the test samples: 71 %\n",
            "Accuracy of the network on the train samples: 89 %\n",
            "Accuracy of the network on the test samples: 70 %\n"
          ],
          "name": "stdout"
        }
      ]
    },
    {
      "cell_type": "code",
      "metadata": {
        "id": "KRsG_xSgxLUM",
        "colab_type": "code",
        "outputId": "1f58d747-612b-4bda-948c-fc54c8b5f96a",
        "colab": {
          "base_uri": "https://localhost:8080/",
          "height": 52
        }
      },
      "source": [
        "# !pip install tensorboard\n",
        "%load_ext tensorboard\n",
        "%tensorboard --logdir runs"
      ],
      "execution_count": 31,
      "outputs": [
        {
          "output_type": "stream",
          "text": [
            "The tensorboard extension is already loaded. To reload it, use:\n",
            "  %reload_ext tensorboard\n"
          ],
          "name": "stdout"
        },
        {
          "output_type": "display_data",
          "data": {
            "text/html": [
              "\n",
              "    <div id=\"root\"></div>\n",
              "    <script>\n",
              "      (function() {\n",
              "        window.TENSORBOARD_ENV = window.TENSORBOARD_ENV || {};\n",
              "        window.TENSORBOARD_ENV[\"IN_COLAB\"] = true;\n",
              "        document.querySelector(\"base\").href = \"https://localhost:6006\";\n",
              "        function fixUpTensorboard(root) {\n",
              "          const tftb = root.querySelector(\"tf-tensorboard\");\n",
              "          // Disable the fragment manipulation behavior in Colab. Not\n",
              "          // only is the behavior not useful (as the iframe's location\n",
              "          // is not visible to the user), it causes TensorBoard's usage\n",
              "          // of `window.replace` to navigate away from the page and to\n",
              "          // the `localhost:<port>` URL specified by the base URI, which\n",
              "          // in turn causes the frame to (likely) crash.\n",
              "          tftb.removeAttribute(\"use-hash\");\n",
              "        }\n",
              "        function executeAllScripts(root) {\n",
              "          // When `script` elements are inserted into the DOM by\n",
              "          // assigning to an element's `innerHTML`, the scripts are not\n",
              "          // executed. Thus, we manually re-insert these scripts so that\n",
              "          // TensorBoard can initialize itself.\n",
              "          for (const script of root.querySelectorAll(\"script\")) {\n",
              "            const newScript = document.createElement(\"script\");\n",
              "            newScript.type = script.type;\n",
              "            newScript.textContent = script.textContent;\n",
              "            root.appendChild(newScript);\n",
              "            script.remove();\n",
              "          }\n",
              "        }\n",
              "        function setHeight(root, height) {\n",
              "          // We set the height dynamically after the TensorBoard UI has\n",
              "          // been initialized. This avoids an intermediate state in\n",
              "          // which the container plus the UI become taller than the\n",
              "          // final width and cause the Colab output frame to be\n",
              "          // permanently resized, eventually leading to an empty\n",
              "          // vertical gap below the TensorBoard UI. It's not clear\n",
              "          // exactly what causes this problematic intermediate state,\n",
              "          // but setting the height late seems to fix it.\n",
              "          root.style.height = `${height}px`;\n",
              "        }\n",
              "        const root = document.getElementById(\"root\");\n",
              "        fetch(\".\")\n",
              "          .then((x) => x.text())\n",
              "          .then((html) => void (root.innerHTML = html))\n",
              "          .then(() => fixUpTensorboard(root))\n",
              "          .then(() => executeAllScripts(root))\n",
              "          .then(() => setHeight(root, 800));\n",
              "      })();\n",
              "    </script>\n",
              "  "
            ],
            "text/plain": [
              "<IPython.core.display.HTML object>"
            ]
          },
          "metadata": {
            "tags": []
          }
        }
      ]
    },
    {
      "cell_type": "code",
      "metadata": {
        "id": "_FfhkBTky24z",
        "colab_type": "code",
        "colab": {}
      },
      "source": [
        "# !pip uninstall tensorboard\n",
        "# !pip install --force-reinstall tf-nightly-2.0-preview"
      ],
      "execution_count": 0,
      "outputs": []
    },
    {
      "cell_type": "code",
      "metadata": {
        "id": "j27ZU8Xvc8ek",
        "colab_type": "code",
        "colab": {}
      },
      "source": [
        ""
      ],
      "execution_count": 0,
      "outputs": []
    },
    {
      "cell_type": "code",
      "metadata": {
        "id": "tZZ6SCcQc8bp",
        "colab_type": "code",
        "colab": {}
      },
      "source": [
        ""
      ],
      "execution_count": 0,
      "outputs": []
    },
    {
      "cell_type": "markdown",
      "metadata": {
        "id": "M_sGkpb3c9aw",
        "colab_type": "text"
      },
      "source": [
        "##TSNE Portion"
      ]
    },
    {
      "cell_type": "code",
      "metadata": {
        "id": "cQksxamSdNmD",
        "colab_type": "code",
        "colab": {}
      },
      "source": [
        ""
      ],
      "execution_count": 0,
      "outputs": []
    },
    {
      "cell_type": "markdown",
      "metadata": {
        "id": "OHdVu25kdlKO",
        "colab_type": "text"
      },
      "source": [
        ""
      ]
    },
    {
      "cell_type": "code",
      "metadata": {
        "id": "3AUwKdz4dDN1",
        "colab_type": "code",
        "colab": {}
      },
      "source": [
        "from sklearn.decomposition import PCA\n",
        "from sklearn.manifold import TSNE\n",
        "%matplotlib inline\n",
        "import matplotlib.pyplot as plt\n",
        "from mpl_toolkits.mplot3d import Axes3D\n",
        "import seaborn as sns"
      ],
      "execution_count": 0,
      "outputs": []
    },
    {
      "cell_type": "code",
      "metadata": {
        "id": "dWRxIcbTzZVK",
        "colab_type": "code",
        "colab": {}
      },
      "source": [
        "X_list = []\n",
        "y_list = []\n",
        "with torch.no_grad():\n",
        "    for  idx,(X,X_len,y) in enumerate(test_data_loader):\n",
        "            \n",
        "            X, X_len, y = put_elements_to_device(a=X, b=torch.tensor(X_len), c=y, device=device)\n",
        "            \n",
        "            X_list.append(embedding_model(X, X_len)[0])\n",
        "            y_list.append(y)"
      ],
      "execution_count": 0,
      "outputs": []
    },
    {
      "cell_type": "code",
      "metadata": {
        "id": "mSpcTrGlcn9F",
        "colab_type": "code",
        "colab": {}
      },
      "source": [
        "X_combined = torch.cat(X_list,0)\n",
        "y_combined = torch.cat(y_list,0)"
      ],
      "execution_count": 0,
      "outputs": []
    },
    {
      "cell_type": "code",
      "metadata": {
        "id": "QtkKJHZBcn6a",
        "colab_type": "code",
        "colab": {}
      },
      "source": [
        "X = X_combined.cpu().numpy()\n",
        "y = y_combined.cpu().numpy()"
      ],
      "execution_count": 0,
      "outputs": []
    },
    {
      "cell_type": "code",
      "metadata": {
        "id": "JGwZbGsncn2m",
        "colab_type": "code",
        "colab": {}
      },
      "source": [
        "target_ids = list(range(recipe_vocabulary))# binary classification"
      ],
      "execution_count": 0,
      "outputs": []
    },
    {
      "cell_type": "code",
      "metadata": {
        "id": "IyuR4QP3cnyt",
        "colab_type": "code",
        "outputId": "9ed93e11-1efc-4b5b-d41c-f61e43e8d078",
        "colab": {
          "base_uri": "https://localhost:8080/",
          "height": 468
        }
      },
      "source": [
        "time_start = time.time()\n",
        "tsne = TSNE(n_components=2, verbose=1, perplexity=40, n_iter=300)\n",
        "tsne_results = tsne.fit_transform(X)\n",
        "print('t-SNE done! Time elapsed: {} seconds'.format(time.time()-time_start))"
      ],
      "execution_count": 38,
      "outputs": [
        {
          "output_type": "stream",
          "text": [
            "[t-SNE] Computing 121 nearest neighbors...\n",
            "[t-SNE] Indexed 19000 samples in 0.109s...\n",
            "[t-SNE] Computed neighbors for 19000 samples in 94.791s...\n",
            "[t-SNE] Computed conditional probabilities for sample 1000 / 19000\n",
            "[t-SNE] Computed conditional probabilities for sample 2000 / 19000\n",
            "[t-SNE] Computed conditional probabilities for sample 3000 / 19000\n",
            "[t-SNE] Computed conditional probabilities for sample 4000 / 19000\n",
            "[t-SNE] Computed conditional probabilities for sample 5000 / 19000\n",
            "[t-SNE] Computed conditional probabilities for sample 6000 / 19000\n",
            "[t-SNE] Computed conditional probabilities for sample 7000 / 19000\n",
            "[t-SNE] Computed conditional probabilities for sample 8000 / 19000\n",
            "[t-SNE] Computed conditional probabilities for sample 9000 / 19000\n",
            "[t-SNE] Computed conditional probabilities for sample 10000 / 19000\n",
            "[t-SNE] Computed conditional probabilities for sample 11000 / 19000\n",
            "[t-SNE] Computed conditional probabilities for sample 12000 / 19000\n",
            "[t-SNE] Computed conditional probabilities for sample 13000 / 19000\n",
            "[t-SNE] Computed conditional probabilities for sample 14000 / 19000\n",
            "[t-SNE] Computed conditional probabilities for sample 15000 / 19000\n",
            "[t-SNE] Computed conditional probabilities for sample 16000 / 19000\n",
            "[t-SNE] Computed conditional probabilities for sample 17000 / 19000\n",
            "[t-SNE] Computed conditional probabilities for sample 18000 / 19000\n",
            "[t-SNE] Computed conditional probabilities for sample 19000 / 19000\n",
            "[t-SNE] Mean sigma: 4.405858\n",
            "[t-SNE] KL divergence after 250 iterations with early exaggeration: 96.539131\n",
            "[t-SNE] KL divergence after 300 iterations: 4.557790\n",
            "t-SNE done! Time elapsed: 156.88042974472046 seconds\n"
          ],
          "name": "stdout"
        }
      ]
    },
    {
      "cell_type": "code",
      "metadata": {
        "id": "ovvi7wbfq1AQ",
        "colab_type": "code",
        "colab": {}
      },
      "source": [
        "from matplotlib import colors as mcolors\n",
        "\n",
        "colors = dict(mcolors.BASE_COLORS, **mcolors.CSS4_COLORS)\n",
        "# Sort colors by hue, saturation, value and name.\n",
        "by_hsv = sorted((tuple(mcolors.rgb_to_hsv(mcolors.to_rgba(color)[:3])), name)\n",
        "                for name, color in colors.items())\n",
        "sorted_names = [name for hsv, name in by_hsv]\n",
        "\n",
        "colors = sorted_names[:9 * len(target_ids): 4]\n",
        "# colors"
      ],
      "execution_count": 0,
      "outputs": []
    },
    {
      "cell_type": "code",
      "metadata": {
        "id": "Wbb0At5_czMj",
        "colab_type": "code",
        "colab": {
          "base_uri": "https://localhost:8080/",
          "height": 337
        },
        "outputId": "56c79586-0a7b-4a71-c5d2-2cd27f5f2c09"
      },
      "source": [
        "plt.figure(figsize=(6, 5))\n",
        "for i, c in zip(target_ids, colors):\n",
        "    plt.scatter(tsne_results[y == i, 0], tsne_results[y == i, 1], c=c)\n",
        "plt.legend()\n",
        "plt.show()"
      ],
      "execution_count": 55,
      "outputs": [
        {
          "output_type": "stream",
          "text": [
            "No handles with labels found to put in legend.\n"
          ],
          "name": "stderr"
        },
        {
          "output_type": "display_data",
          "data": {
            "image/png": "[encoded data removed]",
            "text/plain": [
              "<Figure size 432x360 with 1 Axes>"
            ]
          },
          "metadata": {
            "tags": []
          }
        }
      ]
    },
    {
      "cell_type": "code",
      "metadata": {
        "id": "dXuJ8M-6czJp",
        "colab_type": "code",
        "colab": {}
      },
      "source": [
        ""
      ],
      "execution_count": 0,
      "outputs": []
    },
    {
      "cell_type": "markdown",
      "metadata": {
        "id": "WUn33WOKx-id",
        "colab_type": "text"
      },
      "source": [
        "## Confusion Matrix Portion"
      ]
    },
    {
      "cell_type": "code",
      "metadata": {
        "id": "xiwXJJdAzQJf",
        "colab_type": "code",
        "colab": {}
      },
      "source": [
        "correct = 0\n",
        "total = 0\n",
        "all_labels = []\n",
        "all_predictions=[]\n",
        "for idx,(X,X_len,y) in enumerate(test_data_loader):\n",
        "    X, X_len, y = put_elements_to_device(a=X, b=torch.tensor(X_len), c=y, device=device)\n",
        "    outputs = model(X,X_len)\n",
        "    _, predicted = torch.max(outputs.data, 1)\n",
        "    total += X.size(0)\n",
        "    correct += (predicted == y).sum().item()\n",
        "    all_labels.append(labels[idx].item())\n",
        "    all_predictions.append(predicted)\n",
        "print('Accuracy of the network on the test samples: %d %%' % (\n",
        "        100 * correct / total))"
      ],
      "execution_count": 0,
      "outputs": []
    },
    {
      "cell_type": "code",
      "metadata": {
        "id": "sqWL0-nNczGQ",
        "colab_type": "code",
        "colab": {}
      },
      "source": [
        "from sklearn.metrics import f1_score,accuracy_score, confusion_matrix, classification_report"
      ],
      "execution_count": 0,
      "outputs": []
    },
    {
      "cell_type": "code",
      "metadata": {
        "id": "oN4_24MmzPhv",
        "colab_type": "code",
        "colab": {}
      },
      "source": [
        "f1_score(all_labels, all_predictions, average='micro')"
      ],
      "execution_count": 0,
      "outputs": []
    },
    {
      "cell_type": "code",
      "metadata": {
        "id": "0LrWi_W_zPcO",
        "colab_type": "code",
        "colab": {}
      },
      "source": [
        "# labels = list(set(data_train.labels_encoded))\n",
        "cm = confusion_matrix(all_labels, all_predictions, labels)"
      ],
      "execution_count": 0,
      "outputs": []
    },
    {
      "cell_type": "markdown",
      "metadata": {
        "id": "Zvf-7qBaIpe8",
        "colab_type": "text"
      },
      "source": [
        "## The best model has been chosen and we load vectors for everything else"
      ]
    },
    {
      "cell_type": "code",
      "metadata": {
        "id": "C9DxZm9Zzgmz",
        "colab_type": "code",
        "colab": {
          "base_uri": "https://localhost:8080/",
          "height": 104
        },
        "outputId": "76ec1938-be7f-4617-a888-9d11571ff6fd"
      },
      "source": [
        "processed_df.iloc[5]"
      ],
      "execution_count": 40,
      "outputs": [
        {
          "output_type": "execute_result",
          "data": {
            "text/plain": [
              "Ingredients           [orange, clove, apple, water, cinnamon]\n",
              "Recipe_id                            The Spiced Cider Project\n",
              "Ingredient_Numeric                       [27, 28, 29, 24, 30]\n",
              "Recipe_id_numeric                                           0\n",
              "Name: 5, dtype: object"
            ]
          },
          "metadata": {
            "tags": []
          },
          "execution_count": 40
        }
      ]
    },
    {
      "cell_type": "code",
      "metadata": {
        "id": "rClW4wDUU2M3",
        "colab_type": "code",
        "colab": {}
      },
      "source": [
        "# Recipe is entered\n",
        "recipe = \"The Spiced Cider Project\" # to be obtained as input later\n",
        "recipe_id = processed_df.Recipe_id.get(recipe)"
      ],
      "execution_count": 0,
      "outputs": []
    },
    {
      "cell_type": "markdown",
      "metadata": {
        "id": "5JRuQGQwbxo6",
        "colab_type": "text"
      },
      "source": [
        "# Just checking stuff here :(\n"
      ]
    },
    {
      "cell_type": "markdown",
      "metadata": {
        "id": "BMUfzRZbqKwp",
        "colab_type": "text"
      },
      "source": [
        "#### One can take 1000 samples here and simply stack them on top of each other, then pass through the network"
      ]
    },
    {
      "cell_type": "code",
      "metadata": {
        "id": "yFvOEnIWZi-a",
        "colab_type": "code",
        "colab": {
          "base_uri": "https://localhost:8080/",
          "height": 377
        },
        "outputId": "7e86c16f-627a-4cf7-c223-aacd4a11a35c"
      },
      "source": [
        "# Ingredient_Numeric\n",
        "ingreds = processed_df.iloc[5].Ingredient_Numeric\n",
        "ingreds = (torch.as_tensor(ingreds)).unsqueeze(0)\n",
        "embeddings = model.embedding(torch.as_tensor(ingreds).cuda()) #tensor needed\n",
        "#embeddings.shape\n",
        "# Let us pass this through the LSTM :)\n",
        "output, _ = model.lstm(embeddings)\n",
        "output.squeeze_(0)\n",
        "output.shape"
      ],
      "execution_count": 42,
      "outputs": [
        {
          "output_type": "error",
          "ename": "AttributeError",
          "evalue": "ignored",
          "traceback": [
            "\u001b[0;31m---------------------------------------------------------------------------\u001b[0m",
            "\u001b[0;31mAttributeError\u001b[0m                            Traceback (most recent call last)",
            "\u001b[0;32m<ipython-input-42-9d429e9ed73b>\u001b[0m in \u001b[0;36m<module>\u001b[0;34m()\u001b[0m\n\u001b[1;32m      1\u001b[0m \u001b[0mingreds\u001b[0m \u001b[0;34m=\u001b[0m \u001b[0mprocessed_df\u001b[0m\u001b[0;34m.\u001b[0m\u001b[0miloc\u001b[0m\u001b[0;34m[\u001b[0m\u001b[0;36m5\u001b[0m\u001b[0;34m]\u001b[0m\u001b[0;34m.\u001b[0m\u001b[0mIngredient_Numeric\u001b[0m\u001b[0;34m\u001b[0m\u001b[0;34m\u001b[0m\u001b[0m\n\u001b[1;32m      2\u001b[0m \u001b[0mingreds\u001b[0m \u001b[0;34m=\u001b[0m \u001b[0;34m(\u001b[0m\u001b[0mtorch\u001b[0m\u001b[0;34m.\u001b[0m\u001b[0mas_tensor\u001b[0m\u001b[0;34m(\u001b[0m\u001b[0mingreds\u001b[0m\u001b[0;34m)\u001b[0m\u001b[0;34m)\u001b[0m\u001b[0;34m.\u001b[0m\u001b[0munsqueeze\u001b[0m\u001b[0;34m(\u001b[0m\u001b[0;36m0\u001b[0m\u001b[0;34m)\u001b[0m\u001b[0;34m\u001b[0m\u001b[0;34m\u001b[0m\u001b[0m\n\u001b[0;32m----> 3\u001b[0;31m \u001b[0membeddings\u001b[0m \u001b[0;34m=\u001b[0m \u001b[0mmodel\u001b[0m\u001b[0;34m.\u001b[0m\u001b[0membedding\u001b[0m\u001b[0;34m(\u001b[0m\u001b[0mtorch\u001b[0m\u001b[0;34m.\u001b[0m\u001b[0mas_tensor\u001b[0m\u001b[0;34m(\u001b[0m\u001b[0mingreds\u001b[0m\u001b[0;34m)\u001b[0m\u001b[0;34m.\u001b[0m\u001b[0mcuda\u001b[0m\u001b[0;34m(\u001b[0m\u001b[0;34m)\u001b[0m\u001b[0;34m)\u001b[0m \u001b[0;31m#tensor needed\u001b[0m\u001b[0;34m\u001b[0m\u001b[0;34m\u001b[0m\u001b[0m\n\u001b[0m\u001b[1;32m      4\u001b[0m \u001b[0;31m#embeddings.shape\u001b[0m\u001b[0;34m\u001b[0m\u001b[0;34m\u001b[0m\u001b[0;34m\u001b[0m\u001b[0m\n\u001b[1;32m      5\u001b[0m \u001b[0;31m# Let us pass this through the LSTM :)\u001b[0m\u001b[0;34m\u001b[0m\u001b[0;34m\u001b[0m\u001b[0;34m\u001b[0m\u001b[0m\n",
            "\u001b[0;32m/usr/local/lib/python3.6/dist-packages/torch/nn/modules/module.py\u001b[0m in \u001b[0;36m__getattr__\u001b[0;34m(self, name)\u001b[0m\n\u001b[1;32m    583\u001b[0m                 \u001b[0;32mreturn\u001b[0m \u001b[0mmodules\u001b[0m\u001b[0;34m[\u001b[0m\u001b[0mname\u001b[0m\u001b[0;34m]\u001b[0m\u001b[0;34m\u001b[0m\u001b[0;34m\u001b[0m\u001b[0m\n\u001b[1;32m    584\u001b[0m         raise AttributeError(\"'{}' object has no attribute '{}'\".format(\n\u001b[0;32m--> 585\u001b[0;31m             type(self).__name__, name))\n\u001b[0m\u001b[1;32m    586\u001b[0m \u001b[0;34m\u001b[0m\u001b[0m\n\u001b[1;32m    587\u001b[0m     \u001b[0;32mdef\u001b[0m \u001b[0m__setattr__\u001b[0m\u001b[0;34m(\u001b[0m\u001b[0mself\u001b[0m\u001b[0;34m,\u001b[0m \u001b[0mname\u001b[0m\u001b[0;34m,\u001b[0m \u001b[0mvalue\u001b[0m\u001b[0;34m)\u001b[0m\u001b[0;34m:\u001b[0m\u001b[0;34m\u001b[0m\u001b[0;34m\u001b[0m\u001b[0m\n",
            "\u001b[0;31mAttributeError\u001b[0m: 'ClassificationNetwork' object has no attribute 'embedding'"
          ]
        }
      ]
    },
    {
      "cell_type": "code",
      "metadata": {
        "id": "GgWgXEcfIu3d",
        "colab_type": "code",
        "colab": {}
      },
      "source": [
        "class IngredientEmbedding(object):\n",
        "\n",
        "  def __init__(self):\n",
        "    super(IngredientEmbedding, self).__init__()\n",
        "    self.ingredient_embedding = dict() # A list for all ingredients\n",
        "    \n",
        "  def add_constituents(self, ingred_list, embedding):\n",
        "    for idx, ingred  in enumerate(ingred_list):\n",
        "        self.ingredient_embedding[ingred] = embedding[idx]\n",
        "\n",
        "  def __repr__(self):\n",
        "    return str(self.ingredient_embedding.keys())\n",
        "    \n",
        "  def get_embeddings(self):\n",
        "    x = [ value for (key, value) in self.ingredient_embedding.items()]\n",
        "    return x"
      ],
      "execution_count": 0,
      "outputs": []
    },
    {
      "cell_type": "code",
      "metadata": {
        "id": "6wA8gBxAtA0E",
        "colab_type": "code",
        "colab": {}
      },
      "source": [
        "ingreds = processed_df.iloc[5].Ingredient_Numeric\n",
        "ingredient_embedding = IngredientEmbedding()\n",
        "ingredient_embedding.add_constituents(ingreds, output)\n",
        "ingredient_embedding"
      ],
      "execution_count": 0,
      "outputs": []
    },
    {
      "cell_type": "code",
      "metadata": {
        "id": "JtH0qrL6xjoE",
        "colab_type": "code",
        "colab": {}
      },
      "source": [
        "ingredient_embedding.get_embeddings()"
      ],
      "execution_count": 0,
      "outputs": []
    },
    {
      "cell_type": "code",
      "metadata": {
        "id": "9nMqUnD9Mrjx",
        "colab_type": "code",
        "colab": {}
      },
      "source": [
        "# Now I want to put things into the Recipe object\n",
        "class Recipe(object):\n",
        "\n",
        "  def __init__(self):\n",
        "    super(Recipe,self).__init__()\n",
        "    self.ingred_embedding = IngredientEmbedding()\n",
        "\n",
        "  def create(self, id, name, ingred, numeric, embeddings):\n",
        "    self.common_id = id\n",
        "    self.name = name\n",
        "    self.IngredientNumeric = numeric\n",
        "    self.Ingredients = ingred\n",
        "    self.ingred_embedding = embeddings\n",
        "  \n",
        "  def get_repr(self):\n",
        "    return (self.common_id, self.Ingredients)\n",
        "\n",
        "  def get_embeddings(self):\n",
        "    return self.ingred_embedding.get_embeddings()"
      ],
      "execution_count": 0,
      "outputs": []
    },
    {
      "cell_type": "code",
      "metadata": {
        "id": "DDCPIw2IyY2X",
        "colab_type": "code",
        "colab": {}
      },
      "source": [
        "sample_element = processed_df.iloc[5]"
      ],
      "execution_count": 0,
      "outputs": []
    },
    {
      "cell_type": "code",
      "metadata": {
        "id": "Vzo8glDdxyDG",
        "colab_type": "code",
        "colab": {}
      },
      "source": [
        "my_recipe = Recipe()\n",
        "my_recipe.create(id=sample_element.Recipe_id_numeric,\n",
        "                 name=sample_element.Recipe_id,\n",
        "                 ingred=sample_element.Ingredients,\n",
        "                 numeric=sample_element.Ingredients,\n",
        "                 embeddings=ingredient_embedding\n",
        "                 )"
      ],
      "execution_count": 0,
      "outputs": []
    },
    {
      "cell_type": "markdown",
      "metadata": {
        "id": "A-vxOesm4jzm",
        "colab_type": "text"
      },
      "source": [
        "## tSNE visualisation"
      ]
    },
    {
      "cell_type": "code",
      "metadata": {
        "id": "SUIf651T98R5",
        "colab_type": "code",
        "colab": {}
      },
      "source": [
        "embedder = model.get_embedder()"
      ],
      "execution_count": 0,
      "outputs": []
    },
    {
      "cell_type": "code",
      "metadata": {
        "id": "2tNW3BwW-A4w",
        "colab_type": "code",
        "colab": {}
      },
      "source": [
        "# Let us work with only the Non-zero column to see if there is any learning at all\n",
        "df_temp = processed_df[processed_df.Recipe_id_numeric > 0]\n",
        "df_temp.groupby('Recipe_id_numeric').count()"
      ],
      "execution_count": 0,
      "outputs": []
    },
    {
      "cell_type": "code",
      "metadata": {
        "id": "M5OcUzdCzCLV",
        "colab_type": "code",
        "colab": {}
      },
      "source": [
        "# This is a hacky solution\n",
        "# I am passing all elements in a single batch\n",
        "# so that they can be stacked\n",
        "# num_samples = batch_size = 1000\n",
        "train_dataset_tsne = RecipeData(df_temp)\n",
        "sampler = torch.utils.data.RandomSampler(train_dataset_tsne, replacement=True, num_samples=1000)\n",
        "train_data_loader_tsne = torch.utils.data.DataLoader(dataset=train_dataset_tsne,\n",
        "                                              batch_size=1000,\n",
        "                                              collate_fn=collate_fn,\n",
        "                                               drop_last=True,\n",
        "                                               sampler = sampler\n",
        "                                               ) # Done for cases when num_samples not exact multiple"
      ],
      "execution_count": 0,
      "outputs": []
    },
    {
      "cell_type": "code",
      "metadata": {
        "id": "H-nojIMS4np9",
        "colab_type": "code",
        "colab": {}
      },
      "source": [
        "X_tsne = []\n",
        "y_tsne = []\n",
        "with torch.no_grad():\n",
        "    for idx,(X,X_len,y) in enumerate(train_data_loader_tsne):\n",
        "            X, X_len, y = put_elements_to_device(a=X, b=torch.tensor(X_len), c=y, device=device)\n",
        "            h_n, seq_embed = embedder(X, X_len)\n",
        "            flatten_seq_embed = seq_embed.reshape(seq_embed.size(0), -1)\n",
        "            X_tsne.append(flatten_seq_embed)\n",
        "            y_tsne.append(y)"
      ],
      "execution_count": 0,
      "outputs": []
    },
    {
      "cell_type": "code",
      "metadata": {
        "id": "R1w1WsWZ5Ax8",
        "colab_type": "code",
        "colab": {}
      },
      "source": [
        "X_combined = torch.cat(X_tsne,0)\n",
        "y_combined = torch.cat(y_tsne,0)"
      ],
      "execution_count": 0,
      "outputs": []
    },
    {
      "cell_type": "code",
      "metadata": {
        "id": "b47Ruf435AwP",
        "colab_type": "code",
        "colab": {}
      },
      "source": [
        "X = X_combined.cpu().numpy()\n",
        "y = y_combined.cpu().numpy()"
      ],
      "execution_count": 0,
      "outputs": []
    },
    {
      "cell_type": "code",
      "metadata": {
        "id": "eE-coBnS5Aua",
        "colab_type": "code",
        "colab": {}
      },
      "source": [
        "target_ids = class_vector.numpy() # binary classification\n",
        "target_ids = target_ids.tolist()"
      ],
      "execution_count": 0,
      "outputs": []
    },
    {
      "cell_type": "code",
      "metadata": {
        "id": "Uw1WkmV15ArN",
        "colab_type": "code",
        "colab": {}
      },
      "source": [
        "time_start = time.time()\n",
        "tsne = TSNE(n_components=2, verbose=1, perplexity=40, n_iter=300)\n",
        "tsne_results = tsne.fit_transform(X)\n",
        "print('t-SNE done! Time elapsed: {} seconds'.format(time.time()-time_start))"
      ],
      "execution_count": 0,
      "outputs": []
    },
    {
      "cell_type": "code",
      "metadata": {
        "id": "GtISJh_mOavv",
        "colab_type": "code",
        "colab": {}
      },
      "source": [
        "import matplotlib.pyplot as plt\n",
        "from matplotlib import colors as mcolors\n",
        "\n",
        "colors = dict(mcolors.BASE_COLORS, **mcolors.CSS4_COLORS)\n",
        "# Sort colors by hue, saturation, value and name.\n",
        "by_hsv = sorted((tuple(mcolors.rgb_to_hsv(mcolors.to_rgba(color)[:3])), name)\n",
        "                for name, color in colors.items())\n",
        "sorted_names = [name for hsv, name in by_hsv]"
      ],
      "execution_count": 0,
      "outputs": []
    },
    {
      "cell_type": "code",
      "metadata": {
        "id": "Cj0jvXhAOast",
        "colab_type": "code",
        "colab": {}
      },
      "source": [
        "colors = sorted_names[:9 * len(class_vector): 14]\n",
        "colors"
      ],
      "execution_count": 0,
      "outputs": []
    },
    {
      "cell_type": "code",
      "metadata": {
        "id": "KpMT3V6Y5Z-6",
        "colab_type": "code",
        "colab": {}
      },
      "source": [
        "plt.figure(figsize=(6, 5))\n",
        "for i, c in zip(target_ids, colors):\n",
        "    plt.scatter(tsne_results[y == i, 0], tsne_results[y == i, 1], c=c)\n",
        "plt.legend()\n",
        "plt.show()"
      ],
      "execution_count": 0,
      "outputs": []
    },
    {
      "cell_type": "code",
      "metadata": {
        "id": "6c0v8Owq5abu",
        "colab_type": "code",
        "colab": {}
      },
      "source": [
        ""
      ],
      "execution_count": 0,
      "outputs": []
    },
    {
      "cell_type": "code",
      "metadata": {
        "id": "G-QCz2nG5ahs",
        "colab_type": "code",
        "colab": {}
      },
      "source": [
        ""
      ],
      "execution_count": 0,
      "outputs": []
    }
  ]
}