{
  "nbformat": 4,
  "nbformat_minor": 0,
  "metadata": {
    "colab": {
      "name": "Guided-LSTM.ipynb",
      "provenance": [],
      "collapsed_sections": [],
      "toc_visible": true,
      "include_colab_link": true
    },
    "kernelspec": {
      "name": "python3",
      "display_name": "Python 3"
    },
    "accelerator": "GPU"
  },
  "cells": [
    {
      "cell_type": "markdown",
      "metadata": {
        "id": "view-in-github",
        "colab_type": "text"
      },
      "source": [
        "<a href=\"https://colab.research.google.com/github/chinmay5/guided-research/blob/colab/Guided_LSTM.ipynb\" target=\"_parent\"><img src=\"https://colab.research.google.com/assets/colab-badge.svg\" alt=\"Open In Colab\"/></a>"
      ]
    },
    {
      "cell_type": "code",
      "metadata": {
        "id": "nUEgRNmWuXym",
        "colab_type": "code",
        "outputId": "25d04ef2-c713-4113-8663-4cc02b06bd0f",
        "colab": {
          "base_uri": "https://localhost:8080/",
          "height": 87
        }
      },
      "source": [
        "#installing all the libraries needed for the task\n",
        "import pandas as pd\n",
        "import json\n",
        "import nltk\n",
        "from pandas.io.json import json_normalize\n",
        "nltk.download('stopwords')\n",
        "nltk.download('punkt')\n",
        "import re  \n",
        "from nltk.corpus import stopwords\n",
        "stops1 = set(stopwords.words(\"english\"))\n"
      ],
      "execution_count": 1,
      "outputs": [
        {
          "output_type": "stream",
          "text": [
            "[nltk_data] Downloading package stopwords to /root/nltk_data...\n",
            "[nltk_data]   Package stopwords is already up-to-date!\n",
            "[nltk_data] Downloading package punkt to /root/nltk_data...\n",
            "[nltk_data]   Package punkt is already up-to-date!\n"
          ],
          "name": "stdout"
        }
      ]
    },
    {
      "cell_type": "code",
      "metadata": {
        "id": "pqj6Jvzx2ePe",
        "colab_type": "code",
        "colab": {}
      },
      "source": [
        "import ipywidgets\n",
        "import traitlets"
      ],
      "execution_count": 0,
      "outputs": []
    },
    {
      "cell_type": "code",
      "metadata": {
        "id": "Uyt5-NDhufaS",
        "colab_type": "code",
        "colab": {}
      },
      "source": [
        "processed_df = pd.read_pickle('./processed_df.pkl')"
      ],
      "execution_count": 0,
      "outputs": []
    },
    {
      "cell_type": "code",
      "metadata": {
        "id": "EypFef9Iu3ww",
        "colab_type": "code",
        "colab": {}
      },
      "source": [
        "from sklearn.model_selection import train_test_split\n",
        "df_train, df_test = train_test_split(processed_df, test_size = 0.2, random_state = 0)"
      ],
      "execution_count": 0,
      "outputs": []
    },
    {
      "cell_type": "markdown",
      "metadata": {
        "id": "VczddQ3ZvESR",
        "colab_type": "text"
      },
      "source": [
        "## Neural Network Part"
      ]
    },
    {
      "cell_type": "code",
      "metadata": {
        "id": "-i1SXOAhvAeJ",
        "colab_type": "code",
        "colab": {}
      },
      "source": [
        "# I am assuming that we are able to get the categories here\n",
        "# Now this should become a LSTM based model which will try and do binary prediction\n",
        "import torch\n",
        "import torch.nn as nn\n",
        "import torch.utils.data as data\n",
        "import torch.utils.data.dataloader as dataloader\n",
        "from torch.nn.utils.rnn import pad_sequence"
      ],
      "execution_count": 0,
      "outputs": []
    },
    {
      "cell_type": "code",
      "metadata": {
        "id": "o_lRNaeUvHc8",
        "colab_type": "code",
        "colab": {}
      },
      "source": [
        "# Some constants\n",
        "batch_size = 1000"
      ],
      "execution_count": 0,
      "outputs": []
    },
    {
      "cell_type": "code",
      "metadata": {
        "id": "120DuLyzvKR9",
        "colab_type": "code",
        "colab": {}
      },
      "source": [
        "# https://github.com/yunjey/seq2seq-dataloader/blob/master/data_loader.py\n",
        "def collate_fn(data):\n",
        "    \"\"\"Creates mini-batch tensors from the list of tuples (src_seq, trg_seq).\n",
        "    We should build a custom collate_fn rather than using default collate_fn,\n",
        "    because merging sequences (including padding) is not supported in default.\n",
        "    Seqeuences are padded to the maximum length of mini-batch sequences (dynamic padding).\n",
        "    Args:\n",
        "        data: list of tuple (src_seq, trg_seq).\n",
        "            - src_seq: torch tensor of shape (?); variable length.\n",
        "            - trg_seq: torch tensor of shape (?); variable length.\n",
        "    Returns:\n",
        "        src_seqs: torch tensor of shape (batch_size, padded_length).\n",
        "        src_lengths: list of length (batch_size); valid length for each padded source sequence.\n",
        "        trg_seqs: torch tensor of shape (batch_size, padded_length).\n",
        "        trg_lengths: list of length (batch_size); valid length for each padded target sequence.\n",
        "    \"\"\"\n",
        "    def merge(sequences):\n",
        "        lengths = [len(seq) for seq in sequences]\n",
        "        padded_seqs = torch.zeros(len(sequences), max(lengths)).long()\n",
        "        for i, seq in enumerate(sequences):\n",
        "            end = lengths[i]\n",
        "            padded_seqs[i, :end] = seq[:end]\n",
        "        return padded_seqs, lengths\n",
        "\n",
        "    # sort a list by sequence length (descending order) to use pack_padded_sequence\n",
        "#     print(data[0]) # list of tuples\n",
        "    data.sort(key=lambda x: len(x[0]), reverse=True)\n",
        "\n",
        "    # seperate source and target sequences\n",
        "    src_seqs, trg_seqs = zip(*data)\n",
        "\n",
        "    # merge sequences (from tuple of 1D tensor to 2D tensor)\n",
        "    src_seqs, src_lengths = merge(src_seqs)\n",
        "    # target sequence for us is a single tensor so we do not need to \n",
        "    # merge it\n",
        "    #trg_seqs, trg_lengths = merge(trg_seqs)\n",
        "    trg_seqs = torch.as_tensor(trg_seqs)\n",
        "    return src_seqs, src_lengths, trg_seqs #, trg_lengths\n"
      ],
      "execution_count": 0,
      "outputs": []
    },
    {
      "cell_type": "code",
      "metadata": {
        "id": "KxlQY20ivNRL",
        "colab_type": "code",
        "colab": {}
      },
      "source": [
        "class RecipeData(data.Dataset):\n",
        "    \n",
        "    def __init__(self, df):\n",
        "        super(RecipeData, self).__init__()\n",
        "        self.df = df\n",
        "    \n",
        "    def __len__(self):\n",
        "        return len(self.df)\n",
        "\n",
        "    def __getitem__(self, idx):\n",
        "        X = torch.as_tensor(self.df.Ingredient_Numeric.iloc[idx])\n",
        "        y = torch.as_tensor(self.df.Recipe_id_numeric.iloc[idx])\n",
        "        return X,y\n",
        "    "
      ],
      "execution_count": 0,
      "outputs": []
    },
    {
      "cell_type": "code",
      "metadata": {
        "id": "s3wlSStjvQJK",
        "colab_type": "code",
        "colab": {}
      },
      "source": [
        "train_dataset = RecipeData(df_train)\n",
        "test_dataset = RecipeData(df_test)\n",
        "train_data_loader = torch.utils.data.DataLoader(dataset=train_dataset,\n",
        "                                              batch_size=batch_size,\n",
        "                                              shuffle=True,\n",
        "                                              collate_fn=collate_fn,\n",
        "                                               drop_last=True) # Done for cases when num_samples not exact multiple\n",
        "test_data_loader = torch.utils.data.DataLoader(dataset=test_dataset, # of the batch_size\n",
        "                                              batch_size=batch_size,\n",
        "                                              shuffle=True,\n",
        "                                              collate_fn=collate_fn,\n",
        "                                              drop_last=True)"
      ],
      "execution_count": 0,
      "outputs": []
    },
    {
      "cell_type": "code",
      "metadata": {
        "id": "k1o7a9BPvSea",
        "colab_type": "code",
        "outputId": "480f959f-9c48-447b-e5b4-457359daafd8",
        "colab": {
          "base_uri": "https://localhost:8080/",
          "height": 35
        }
      },
      "source": [
        "df_train.Recipe_id_numeric[4]"
      ],
      "execution_count": 10,
      "outputs": [
        {
          "output_type": "execute_result",
          "data": {
            "text/plain": [
              "5"
            ]
          },
          "metadata": {
            "tags": []
          },
          "execution_count": 10
        }
      ]
    },
    {
      "cell_type": "code",
      "metadata": {
        "id": "2TUw5ZEavUid",
        "colab_type": "code",
        "outputId": "50851a4d-772b-4e79-878c-9d0ef8794928",
        "colab": {
          "base_uri": "https://localhost:8080/",
          "height": 35
        }
      },
      "source": [
        "train_dataset[0]"
      ],
      "execution_count": 11,
      "outputs": [
        {
          "output_type": "execute_result",
          "data": {
            "text/plain": [
              "(tensor([ 65,  33, 140,  36]), tensor(0))"
            ]
          },
          "metadata": {
            "tags": []
          },
          "execution_count": 11
        }
      ]
    },
    {
      "cell_type": "code",
      "metadata": {
        "id": "PJ8uj-EovcGq",
        "colab_type": "code",
        "outputId": "03cb1931-6b9f-4802-dd5c-02964aa006ec",
        "colab": {
          "base_uri": "https://localhost:8080/",
          "height": 139
        }
      },
      "source": [
        "for (X,X_len,y) in train_data_loader:\n",
        "    print(X)\n",
        "    break"
      ],
      "execution_count": 12,
      "outputs": [
        {
          "output_type": "stream",
          "text": [
            "tensor([[129,  70,  36,  ...,  24,  89, 243],\n",
            "        [ 24,  42,  49,  ...,   0,   0,   0],\n",
            "        [ 39,  55, 243,  ...,   0,   0,   0],\n",
            "        ...,\n",
            "        [ 27,   0,   0,  ...,   0,   0,   0],\n",
            "        [131,   0,   0,  ...,   0,   0,   0],\n",
            "        [221,   0,   0,  ...,   0,   0,   0]])\n"
          ],
          "name": "stdout"
        }
      ]
    },
    {
      "cell_type": "code",
      "metadata": {
        "id": "ySCeHYf4wotf",
        "colab_type": "code",
        "outputId": "71737f57-93b8-4ccd-da66-bf469e2debd5",
        "colab": {
          "base_uri": "https://localhost:8080/",
          "height": 35
        }
      },
      "source": [
        "# Moving things to GPU\n",
        "device = torch.device(\"cuda\" if torch.cuda.is_available() else \"cpu\")\n",
        "print(device)"
      ],
      "execution_count": 13,
      "outputs": [
        {
          "output_type": "stream",
          "text": [
            "cuda\n"
          ],
          "name": "stdout"
        }
      ]
    },
    {
      "cell_type": "code",
      "metadata": {
        "id": "2QOe_jHFvfA6",
        "colab_type": "code",
        "colab": {}
      },
      "source": [
        "class RecipePredictor(nn.Module):\n",
        "    \n",
        "    def __init__(self, vocab_size, hidden_dim, embedding_dim,\n",
        "                 batch_size, output_dim, device):\n",
        "        \n",
        "        super(RecipePredictor, self).__init__()\n",
        "        self.vocab_size = vocab_size\n",
        "        self.output_dim = output_dim\n",
        "        self.hidden_dim = hidden_dim\n",
        "        self.embedding_dim = embedding_dim\n",
        "        self.embedding = nn.Embedding(self.vocab_size, self.embedding_dim)\n",
        "        self.lstm = nn.LSTM(input_size=self.embedding_dim, hidden_size=self.hidden_dim)\n",
        "        self.batch_size = batch_size\n",
        "        self.predictor = nn.Linear(self.hidden_dim, self.output_dim)\n",
        "        self.non_linearity = nn.ReLU()\n",
        "        self.init_hidden() # TODO:  This should happen at the beginning of each epoch\n",
        "        \n",
        "    def init_hidden(self):\n",
        "        self.h_n = torch.randn((1, self.batch_size, self.hidden_dim) ,device=device)\n",
        "        self.c_n = torch.randn((1, self.batch_size, self.hidden_dim) , device=device)\n",
        "        \n",
        "        \n",
        "    \n",
        "    def forward(self, input_sequence, max_len):\n",
        "#         print(input_sequence)\n",
        "#         print(max_len)\n",
        "        embedded = self.embedding(input_sequence)\n",
        "        packed = nn.utils.rnn.pack_padded_sequence(embedded, max_len, batch_first=True)\n",
        "        outputs, (self.c_n, self.h_n) = self.lstm(packed, (self.c_n, self.h_n))\n",
        "        # Unpack padding\n",
        "        \"\"\"\n",
        "            Honestly, I do not know if at this point, I need the output. I would rather prefer to work with the\n",
        "            self.h_n cell and so will not `pad_padded_sequence`\n",
        "        \"\"\"\n",
        "        #outputs, _ = nn.utils.rnn.pad_packed_sequence(outputs, batch_first=True)\n",
        "        # on which output should the prediction be done?\n",
        "        # self.h_n =  num_layers, batch_size, hidden_dim\n",
        "        batch_size = self.h_n.shape[1]\n",
        "        output_predicted = self.predictor(self.h_n.reshape(batch_size, -1))\n",
        "        return output_predicted\n",
        "        "
      ],
      "execution_count": 0,
      "outputs": []
    },
    {
      "cell_type": "code",
      "metadata": {
        "id": "fLHwSBKyvioY",
        "colab_type": "code",
        "colab": {}
      },
      "source": [
        "# These are some constants that I am just copying here\n",
        "# These need to be updated based on the files\n",
        "ingredient_vocabulary = 1152\n",
        "recipe_vocabulary = 16\n",
        "vocab_size = ingredient_vocabulary + 1"
      ],
      "execution_count": 0,
      "outputs": []
    },
    {
      "cell_type": "code",
      "metadata": {
        "id": "68k1Q92Wvkzy",
        "colab_type": "code",
        "colab": {}
      },
      "source": [
        "num_recipes = recipe_vocabulary + 1\n",
        "model = RecipePredictor(vocab_size=vocab_size, hidden_dim=512, embedding_dim=300, batch_size=batch_size,\n",
        "                       output_dim=num_recipes, device=device)"
      ],
      "execution_count": 0,
      "outputs": []
    },
    {
      "cell_type": "markdown",
      "metadata": {
        "id": "nIP9G3HYF4tA",
        "colab_type": "text"
      },
      "source": [
        "### I did not put hidden state on cuda and that was an issue. So, it has been corrected"
      ]
    },
    {
      "cell_type": "code",
      "metadata": {
        "id": "BiQj9hZ9Fnjr",
        "colab_type": "code",
        "colab": {
          "base_uri": "https://localhost:8080/",
          "height": 121
        },
        "outputId": "7f642f09-a2b2-4a3e-c631-fdf0337c9c3d"
      },
      "source": [
        "model.to(device)"
      ],
      "execution_count": 17,
      "outputs": [
        {
          "output_type": "execute_result",
          "data": {
            "text/plain": [
              "RecipePredictor(\n",
              "  (embedding): Embedding(1153, 300)\n",
              "  (lstm): LSTM(300, 512)\n",
              "  (predictor): Linear(in_features=512, out_features=17, bias=True)\n",
              "  (non_linearity): ReLU()\n",
              ")"
            ]
          },
          "metadata": {
            "tags": []
          },
          "execution_count": 17
        }
      ]
    },
    {
      "cell_type": "code",
      "metadata": {
        "id": "htHpNlREwXMH",
        "colab_type": "code",
        "outputId": "507a4e73-3c9a-4aab-a967-b4945e21da2d",
        "colab": {
          "base_uri": "https://localhost:8080/",
          "height": 156
        }
      },
      "source": [
        "model(X.cuda(), torch.tensor(X_len).cuda())"
      ],
      "execution_count": 18,
      "outputs": [
        {
          "output_type": "execute_result",
          "data": {
            "text/plain": [
              "tensor([[ 0.2426,  0.2468,  0.1269,  ...,  0.2474,  0.0481, -0.1306],\n",
              "        [-0.1433,  0.0131,  0.2130,  ..., -0.0695, -0.0562, -0.3213],\n",
              "        [ 0.1079,  0.0507,  0.0994,  ..., -0.2803, -0.1576,  0.1823],\n",
              "        ...,\n",
              "        [-0.0101,  0.0532,  0.4223,  ...,  0.3989,  0.0642, -0.2718],\n",
              "        [-0.1152,  0.3523, -0.3859,  ..., -0.2631, -0.5250,  0.0990],\n",
              "        [-0.1229,  0.1882,  0.2236,  ...,  0.0140,  0.2446, -0.3033]],\n",
              "       device='cuda:0', grad_fn=<AddmmBackward>)"
            ]
          },
          "metadata": {
            "tags": []
          },
          "execution_count": 18
        }
      ]
    },
    {
      "cell_type": "markdown",
      "metadata": {
        "id": "R7hXmWlfweTd",
        "colab_type": "text"
      },
      "source": [
        "## Put loss function and categories"
      ]
    },
    {
      "cell_type": "code",
      "metadata": {
        "id": "rY3ua9PjwaDb",
        "colab_type": "code",
        "colab": {}
      },
      "source": [
        "lr = 1e-3\n",
        "criterion = nn.CrossEntropyLoss()\n",
        "optimizer = torch.optim.Adam(model.parameters(), lr=lr)\n"
      ],
      "execution_count": 0,
      "outputs": []
    },
    {
      "cell_type": "code",
      "metadata": {
        "id": "7Y5PcLdrwhYb",
        "colab_type": "code",
        "colab": {}
      },
      "source": [
        "num_epoch = 20"
      ],
      "execution_count": 0,
      "outputs": []
    },
    {
      "cell_type": "code",
      "metadata": {
        "id": "m4-G8nsMw_yC",
        "colab_type": "code",
        "colab": {}
      },
      "source": [
        "def put_elements_to_device(a,b,c,device):\n",
        "    return a.to(device), b.to(device), c.to(device)"
      ],
      "execution_count": 0,
      "outputs": []
    },
    {
      "cell_type": "code",
      "metadata": {
        "id": "K_AIg_EfxEGI",
        "colab_type": "code",
        "colab": {}
      },
      "source": [
        "!pip install -q tb-nightly\n",
        "\n",
        "# Load the TensorBoard notebook extension\n",
        "%load_ext tensorboard"
      ],
      "execution_count": 0,
      "outputs": []
    },
    {
      "cell_type": "code",
      "metadata": {
        "id": "dqaoUggYxHN8",
        "colab_type": "code",
        "colab": {}
      },
      "source": [
        "from torch.utils.tensorboard import SummaryWriter\n",
        "writer = SummaryWriter()"
      ],
      "execution_count": 0,
      "outputs": []
    },
    {
      "cell_type": "code",
      "metadata": {
        "id": "IMXBPIJRG96w",
        "colab_type": "code",
        "colab": {
          "base_uri": "https://localhost:8080/",
          "height": 52
        },
        "outputId": "76786d1f-8a6c-4a30-ca07-2188c17e3ded"
      },
      "source": [
        "print(len(train_data_loader) * batch_size)\n",
        "print(len(df_train))\n",
        "# Not same since we are dropping some terms which do not match up\n",
        "N_train = len(train_data_loader) * batch_size\n",
        "N_test = len(test_data_loader) * batch_size"
      ],
      "execution_count": 24,
      "outputs": [
        {
          "output_type": "stream",
          "text": [
            "79000\n",
            "79948\n"
          ],
          "name": "stdout"
        }
      ]
    },
    {
      "cell_type": "code",
      "metadata": {
        "id": "upzCHjdDxKfh",
        "colab_type": "code",
        "colab": {
          "base_uri": "https://localhost:8080/",
          "height": 35
        },
        "outputId": "baa0241c-7c26-4eaa-b02b-d7fea64afdc9"
      },
      "source": [
        "for epoch in range(num_epoch):\n",
        "    running_loss = 0\n",
        "    model.init_hidden()\n",
        "    for idx,(X,X_len,y) in enumerate(train_data_loader):\n",
        "        model.zero_grad()\n",
        "        X, X_len, y = put_elements_to_device(a=X, b=torch.tensor(X_len), c=y, device=device)\n",
        "        prediction = model(X, X_len)\n",
        "        loss = criterion(prediction, y)\n",
        "        loss.backward(retain_graph=True)\n",
        "        optimizer.step()\n",
        "        running_loss += loss.item()\n",
        "        if idx % 100 == 0:\n",
        "            print(\"epoch {} loss {}\".format(epoch, running_loss))\n",
        "    writer.add_scalar('Loss/train', running_loss/N_train, epoch)\n",
        "    # validation set is still left to create\n",
        "    # Now to test the validation set\n",
        "    correct = 0\n",
        "    total = 0\n",
        "    test_loss = 0\n",
        "    with torch.no_grad():\n",
        "        for idx,(X,X_len,y) in enumerate(test_data_loader):\n",
        "            X, X_len, y = put_elements_to_device(a=X, b=torch.tensor(X_len), c=y, device=device)\n",
        "            outputs = model(X,X_len)\n",
        "            loss = criterion(outputs, y)\n",
        "            test_loss += loss.item()\n",
        "            _, predicted = torch.max(outputs.data, 1)\n",
        "            total += X.size(0)\n",
        "            correct += (predicted == y).sum().item()\n",
        "    writer.add_scalar('Loss/train', test_loss/N_test, epoch)\n",
        "    print('Accuracy of the network on the test samples: %d %%' % (\n",
        "        100 * correct / total))\n",
        "        \n",
        "            "
      ],
      "execution_count": 0,
      "outputs": [
        {
          "output_type": "stream",
          "text": [
            "epoch 0 loss 2.8605995178222656\n"
          ],
          "name": "stdout"
        }
      ]
    },
    {
      "cell_type": "code",
      "metadata": {
        "id": "KRsG_xSgxLUM",
        "colab_type": "code",
        "colab": {}
      },
      "source": [
        "# !pip install tensorboard\n",
        "%load_ext tensorboard\n",
        "%tensorboard --logdir runs"
      ],
      "execution_count": 0,
      "outputs": []
    },
    {
      "cell_type": "code",
      "metadata": {
        "id": "_FfhkBTky24z",
        "colab_type": "code",
        "colab": {}
      },
      "source": [
        "# !pip uninstall tensorboard\n",
        "# !pip install --force-reinstall tf-nightly-2.0-preview"
      ],
      "execution_count": 0,
      "outputs": []
    },
    {
      "cell_type": "code",
      "metadata": {
        "id": "C9DxZm9Zzgmz",
        "colab_type": "code",
        "colab": {}
      },
      "source": [
        ""
      ],
      "execution_count": 0,
      "outputs": []
    }
  ]
}