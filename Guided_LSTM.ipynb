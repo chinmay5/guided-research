{
  "nbformat": 4,
  "nbformat_minor": 0,
  "metadata": {
    "colab": {
      "name": "Guided-LSTM.ipynb",
      "provenance": [],
      "collapsed_sections": [],
      "include_colab_link": true
    },
    "kernelspec": {
      "name": "python3",
      "display_name": "Python 3"
    },
    "accelerator": "GPU"
  },
  "cells": [
    {
      "cell_type": "markdown",
      "metadata": {
        "id": "view-in-github",
        "colab_type": "text"
      },
      "source": [
        "<a href=\"https://colab.research.google.com/github/chinmay5/guided-research/blob/colab/Guided_LSTM.ipynb\" target=\"_parent\"><img src=\"https://colab.research.google.com/assets/colab-badge.svg\" alt=\"Open In Colab\"/></a>"
      ]
    },
    {
      "cell_type": "code",
      "metadata": {
        "id": "nUEgRNmWuXym",
        "colab_type": "code",
        "outputId": "a5ceb4f8-7c6c-41a5-e2af-8a0eb639cfd9",
        "colab": {
          "base_uri": "https://localhost:8080/",
          "height": 87
        }
      },
      "source": [
        "#installing all the libraries needed for the task\n",
        "import pandas as pd\n",
        "import json\n",
        "import nltk\n",
        "from pandas.io.json import json_normalize\n",
        "nltk.download('stopwords')\n",
        "nltk.download('punkt')\n",
        "import re  \n",
        "from nltk.corpus import stopwords\n",
        "stops1 = set(stopwords.words(\"english\"))\n"
      ],
      "execution_count": 0,
      "outputs": [
        {
          "output_type": "stream",
          "text": [
            "[nltk_data] Downloading package stopwords to /root/nltk_data...\n",
            "[nltk_data]   Package stopwords is already up-to-date!\n",
            "[nltk_data] Downloading package punkt to /root/nltk_data...\n",
            "[nltk_data]   Package punkt is already up-to-date!\n"
          ],
          "name": "stdout"
        }
      ]
    },
    {
      "cell_type": "code",
      "metadata": {
        "id": "pqj6Jvzx2ePe",
        "colab_type": "code",
        "colab": {}
      },
      "source": [
        "import ipywidgets\n",
        "import traitlets"
      ],
      "execution_count": 0,
      "outputs": []
    },
    {
      "cell_type": "code",
      "metadata": {
        "id": "Uyt5-NDhufaS",
        "colab_type": "code",
        "colab": {}
      },
      "source": [
        "processed_df = pd.read_pickle('./processed_df.pkl')"
      ],
      "execution_count": 0,
      "outputs": []
    },
    {
      "cell_type": "code",
      "metadata": {
        "id": "EypFef9Iu3ww",
        "colab_type": "code",
        "colab": {}
      },
      "source": [
        "from sklearn.model_selection import train_test_split\n",
        "df_train, df_test = train_test_split(processed_df, test_size = 0.2, random_state = 0)"
      ],
      "execution_count": 0,
      "outputs": []
    },
    {
      "cell_type": "markdown",
      "metadata": {
        "id": "VczddQ3ZvESR",
        "colab_type": "text"
      },
      "source": [
        "## Neural Network Part"
      ]
    },
    {
      "cell_type": "code",
      "metadata": {
        "id": "-i1SXOAhvAeJ",
        "colab_type": "code",
        "colab": {}
      },
      "source": [
        "# I am assuming that we are able to get the categories here\n",
        "# Now this should become a LSTM based model which will try and do binary prediction\n",
        "import torch\n",
        "import torch.nn as nn\n",
        "import torch.utils.data as data\n",
        "import torch.utils.data.dataloader as dataloader\n",
        "from torch.nn.utils.rnn import pad_sequence"
      ],
      "execution_count": 0,
      "outputs": []
    },
    {
      "cell_type": "code",
      "metadata": {
        "id": "o_lRNaeUvHc8",
        "colab_type": "code",
        "colab": {}
      },
      "source": [
        "# Some constants\n",
        "batch_size = 5"
      ],
      "execution_count": 0,
      "outputs": []
    },
    {
      "cell_type": "code",
      "metadata": {
        "id": "120DuLyzvKR9",
        "colab_type": "code",
        "colab": {}
      },
      "source": [
        "# https://github.com/yunjey/seq2seq-dataloader/blob/master/data_loader.py\n",
        "def collate_fn(data):\n",
        "    \"\"\"Creates mini-batch tensors from the list of tuples (src_seq, trg_seq).\n",
        "    We should build a custom collate_fn rather than using default collate_fn,\n",
        "    because merging sequences (including padding) is not supported in default.\n",
        "    Seqeuences are padded to the maximum length of mini-batch sequences (dynamic padding).\n",
        "    Args:\n",
        "        data: list of tuple (src_seq, trg_seq).\n",
        "            - src_seq: torch tensor of shape (?); variable length.\n",
        "            - trg_seq: torch tensor of shape (?); variable length.\n",
        "    Returns:\n",
        "        src_seqs: torch tensor of shape (batch_size, padded_length).\n",
        "        src_lengths: list of length (batch_size); valid length for each padded source sequence.\n",
        "        trg_seqs: torch tensor of shape (batch_size, padded_length).\n",
        "        trg_lengths: list of length (batch_size); valid length for each padded target sequence.\n",
        "    \"\"\"\n",
        "    def merge(sequences):\n",
        "        lengths = [len(seq) for seq in sequences]\n",
        "        padded_seqs = torch.zeros(len(sequences), max(lengths)).long()\n",
        "        for i, seq in enumerate(sequences):\n",
        "            end = lengths[i]\n",
        "            padded_seqs[i, :end] = seq[:end]\n",
        "        return padded_seqs, lengths\n",
        "\n",
        "    # sort a list by sequence length (descending order) to use pack_padded_sequence\n",
        "#     print(data[0]) # list of tuples\n",
        "    data.sort(key=lambda x: len(x[0]), reverse=True)\n",
        "\n",
        "    # seperate source and target sequences\n",
        "    src_seqs, trg_seqs = zip(*data)\n",
        "\n",
        "    # merge sequences (from tuple of 1D tensor to 2D tensor)\n",
        "    src_seqs, src_lengths = merge(src_seqs)\n",
        "    # target sequence for us is a single tensor so we do not need to \n",
        "    # merge it\n",
        "    #trg_seqs, trg_lengths = merge(trg_seqs)\n",
        "    trg_seqs = torch.as_tensor(trg_seqs)\n",
        "    return src_seqs, src_lengths, trg_seqs #, trg_lengths\n"
      ],
      "execution_count": 0,
      "outputs": []
    },
    {
      "cell_type": "code",
      "metadata": {
        "id": "KxlQY20ivNRL",
        "colab_type": "code",
        "colab": {}
      },
      "source": [
        "class RecipeData(data.Dataset):\n",
        "    \n",
        "    def __init__(self, df):\n",
        "        super(RecipeData, self).__init__()\n",
        "        self.df = df\n",
        "    \n",
        "    def __len__(self):\n",
        "        return len(self.df)\n",
        "\n",
        "    def __getitem__(self, idx):\n",
        "        X = torch.as_tensor(self.df.Ingredient_Numeric.iloc[idx])\n",
        "        y = torch.as_tensor(self.df.Recipe_id_numeric.iloc[idx])\n",
        "        return X,y\n",
        "    "
      ],
      "execution_count": 0,
      "outputs": []
    },
    {
      "cell_type": "code",
      "metadata": {
        "id": "s3wlSStjvQJK",
        "colab_type": "code",
        "colab": {}
      },
      "source": [
        "train_dataset = RecipeData(df_train)\n",
        "test_dataset = RecipeData(df_test)\n",
        "train_data_loader = torch.utils.data.DataLoader(dataset=train_dataset,\n",
        "                                              batch_size=batch_size,\n",
        "                                              shuffle=True,\n",
        "                                              collate_fn=collate_fn,\n",
        "                                               drop_last=True) # Done for cases when num_samples not exact multiple\n",
        "test_data_loader = torch.utils.data.DataLoader(dataset=test_dataset, # of the batch_size\n",
        "                                              batch_size=batch_size,\n",
        "                                              shuffle=True,\n",
        "                                              collate_fn=collate_fn,\n",
        "                                              drop_last=True)"
      ],
      "execution_count": 0,
      "outputs": []
    },
    {
      "cell_type": "code",
      "metadata": {
        "id": "k1o7a9BPvSea",
        "colab_type": "code",
        "outputId": "94caeafc-c175-43f3-e78d-10d35b8cd4cf",
        "colab": {
          "base_uri": "https://localhost:8080/",
          "height": 35
        }
      },
      "source": [
        "df_train.Recipe_id_numeric[4]"
      ],
      "execution_count": 0,
      "outputs": [
        {
          "output_type": "execute_result",
          "data": {
            "text/plain": [
              "5"
            ]
          },
          "metadata": {
            "tags": []
          },
          "execution_count": 10
        }
      ]
    },
    {
      "cell_type": "code",
      "metadata": {
        "id": "2TUw5ZEavUid",
        "colab_type": "code",
        "outputId": "fc6b5423-1ba0-47a3-e5e0-c9813e05ee0e",
        "colab": {
          "base_uri": "https://localhost:8080/",
          "height": 35
        }
      },
      "source": [
        "train_dataset[0]"
      ],
      "execution_count": 0,
      "outputs": [
        {
          "output_type": "execute_result",
          "data": {
            "text/plain": [
              "(tensor([ 65,  33, 140,  36]), tensor(0))"
            ]
          },
          "metadata": {
            "tags": []
          },
          "execution_count": 11
        }
      ]
    },
    {
      "cell_type": "code",
      "metadata": {
        "id": "PJ8uj-EovcGq",
        "colab_type": "code",
        "outputId": "6b5fec36-7453-4fa6-f0f9-c0ff1d6cad92",
        "colab": {
          "base_uri": "https://localhost:8080/",
          "height": 225
        }
      },
      "source": [
        "for (X,X_len,y) in train_data_loader:\n",
        "    print(X)\n",
        "    print(X_len)\n",
        "    print(y)\n",
        "    break"
      ],
      "execution_count": 0,
      "outputs": [
        {
          "output_type": "stream",
          "text": [
            "tensor([[ 47, 349,  20, 161,  99,   1,  67, 384,  49,  33,  21,  36,  57, 279,\n",
            "         342, 187,   7, 114],\n",
            "        [ 44,  20, 242, 438,   7, 159,  42,  43, 260,   0,   0,   0,   0,   0,\n",
            "           0,   0,   0,   0],\n",
            "        [ 29,   3, 124,  19,  39,  95,  30,  61, 225,   0,   0,   0,   0,   0,\n",
            "           0,   0,   0,   0],\n",
            "        [ 20,  44,  17, 107, 142,  49,  21,  19,   0,   0,   0,   0,   0,   0,\n",
            "           0,   0,   0,   0],\n",
            "        [252, 208,  20,  24, 203, 542,   0,   0,   0,   0,   0,   0,   0,   0,\n",
            "           0,   0,   0,   0]])\n",
            "[18, 9, 9, 8, 6]\n",
            "tensor([ 0,  8, 12,  0,  5])\n"
          ],
          "name": "stdout"
        }
      ]
    },
    {
      "cell_type": "code",
      "metadata": {
        "id": "2QOe_jHFvfA6",
        "colab_type": "code",
        "colab": {}
      },
      "source": [
        "class RecipePredictor(nn.Module):\n",
        "    \n",
        "    def __init__(self, vocab_size, hidden_dim, embedding_dim, batch_size, output_dim):\n",
        "        super(RecipePredictor, self).__init__()\n",
        "        self.vocab_size = vocab_size\n",
        "        self.output_dim = output_dim\n",
        "        self.hidden_dim = hidden_dim\n",
        "        self.embedding_dim = embedding_dim\n",
        "        self.embedding = nn.Embedding(self.vocab_size, self.embedding_dim)\n",
        "        self.lstm = nn.LSTM(input_size=self.embedding_dim, hidden_size=self.hidden_dim)\n",
        "        self.batch_size = batch_size\n",
        "        self.predictor = nn.Linear(self.hidden_dim, self.output_dim)\n",
        "        self.non_linearity = nn.ReLU()\n",
        "        self.init_hidden() # TODO:  This should happen at the beginning of each epoch\n",
        "        \n",
        "    def init_hidden(self):\n",
        "        self.h_n = torch.randn(1, self.batch_size, self.hidden_dim)\n",
        "        self.c_n = torch.randn(1, self.batch_size, self.hidden_dim)\n",
        "        \n",
        "    \n",
        "    def forward(self, input_sequence, max_len):\n",
        "#         print(input_sequence)\n",
        "#         print(max_len)\n",
        "        embedded = self.embedding(input_sequence)\n",
        "        packed = nn.utils.rnn.pack_padded_sequence(embedded, max_len, batch_first=True)\n",
        "        outputs, (self.c_n, self.h_n) = self.lstm(packed, (self.c_n, self.h_n))\n",
        "        # Unpack padding\n",
        "        \"\"\"\n",
        "            Honestly, I do not know if at this point, I need the output. I would rather prefer to work with the\n",
        "            self.h_n cell and so will not `pad_padded_sequence`\n",
        "        \"\"\"\n",
        "        #outputs, _ = nn.utils.rnn.pad_packed_sequence(outputs, batch_first=True)\n",
        "        # on which output should the prediction be done?\n",
        "        # self.h_n =  num_layers, batch_size, hidden_dim\n",
        "        batch_size = self.h_n.shape[1]\n",
        "        output_predicted = self.predictor(self.h_n.reshape(batch_size, -1))\n",
        "        return output_predicted\n",
        "        "
      ],
      "execution_count": 0,
      "outputs": []
    },
    {
      "cell_type": "code",
      "metadata": {
        "id": "fLHwSBKyvioY",
        "colab_type": "code",
        "colab": {}
      },
      "source": [
        "# These are some constants that I am just copying here\n",
        "# These need to be updated based on the files\n",
        "ingredient_vocabulary = 1152\n",
        "recipe_vocabulary = 16\n",
        "vocab_size = ingredient_vocabulary + 1"
      ],
      "execution_count": 0,
      "outputs": []
    },
    {
      "cell_type": "code",
      "metadata": {
        "id": "68k1Q92Wvkzy",
        "colab_type": "code",
        "colab": {}
      },
      "source": [
        "num_recipes = recipe_vocabulary + 1\n",
        "model = RecipePredictor(vocab_size=vocab_size, hidden_dim=512, embedding_dim=300, batch_size=batch_size,\n",
        "                       output_dim=num_recipes)"
      ],
      "execution_count": 0,
      "outputs": []
    },
    {
      "cell_type": "code",
      "metadata": {
        "id": "htHpNlREwXMH",
        "colab_type": "code",
        "outputId": "036b8898-d2b3-42f9-8f40-c2561118984c",
        "colab": {
          "base_uri": "https://localhost:8080/",
          "height": 277
        }
      },
      "source": [
        "model(X, torch.tensor(X_len))"
      ],
      "execution_count": 0,
      "outputs": [
        {
          "output_type": "execute_result",
          "data": {
            "text/plain": [
              "tensor([[-0.1243,  0.0352,  0.0636,  0.0446,  0.0248,  0.1174,  0.0650,  0.0748,\n",
              "          0.1017, -0.0285, -0.0722, -0.1552,  0.0567,  0.0761, -0.4016,  0.0074,\n",
              "          0.2531],\n",
              "        [ 0.0472, -0.0196, -0.2112,  0.0537, -0.0331,  0.0523, -0.0392, -0.2207,\n",
              "          0.0740, -0.0726, -0.3089, -0.3189,  0.1394,  0.1757,  0.0067,  0.1906,\n",
              "         -0.0131],\n",
              "        [ 0.1656,  0.1994,  0.0592,  0.0142, -0.0989, -0.0683, -0.0934,  0.0474,\n",
              "          0.1007, -0.0707, -0.2304,  0.0486,  0.1226,  0.1526,  0.0426,  0.0316,\n",
              "          0.2209],\n",
              "        [ 0.0229,  0.0763,  0.0403, -0.0182, -0.0252, -0.0771,  0.0806,  0.0205,\n",
              "          0.1701,  0.1536, -0.0484, -0.1660, -0.2670, -0.0232,  0.2510, -0.0978,\n",
              "         -0.0428],\n",
              "        [-0.1517,  0.0475, -0.0226,  0.0896,  0.0544, -0.2032, -0.2437, -0.0679,\n",
              "          0.1818,  0.2426,  0.0921, -0.1612, -0.1762,  0.1039,  0.0613, -0.1786,\n",
              "         -0.1541]], grad_fn=<AddmmBackward>)"
            ]
          },
          "metadata": {
            "tags": []
          },
          "execution_count": 16
        }
      ]
    },
    {
      "cell_type": "markdown",
      "metadata": {
        "id": "R7hXmWlfweTd",
        "colab_type": "text"
      },
      "source": [
        "## Put loss function and categories"
      ]
    },
    {
      "cell_type": "code",
      "metadata": {
        "id": "rY3ua9PjwaDb",
        "colab_type": "code",
        "colab": {}
      },
      "source": [
        "lr = 1e-3\n",
        "criterion = nn.CrossEntropyLoss()\n",
        "optimizer = torch.optim.Adam(model.parameters(), lr=lr)\n"
      ],
      "execution_count": 0,
      "outputs": []
    },
    {
      "cell_type": "code",
      "metadata": {
        "id": "7Y5PcLdrwhYb",
        "colab_type": "code",
        "colab": {}
      },
      "source": [
        "num_epoch = 2"
      ],
      "execution_count": 0,
      "outputs": []
    },
    {
      "cell_type": "code",
      "metadata": {
        "id": "ySCeHYf4wotf",
        "colab_type": "code",
        "outputId": "2cc49f9f-ae3c-4626-eecc-838563f73a4e",
        "colab": {
          "base_uri": "https://localhost:8080/",
          "height": 35
        }
      },
      "source": [
        "# Moving things to GPU\n",
        "device = torch.device(\"cuda\" if torch.cuda.is_available() else \"cpu\")\n",
        "print(device)"
      ],
      "execution_count": 0,
      "outputs": [
        {
          "output_type": "stream",
          "text": [
            "cuda\n"
          ],
          "name": "stdout"
        }
      ]
    },
    {
      "cell_type": "code",
      "metadata": {
        "id": "RMV4vkzcwwqI",
        "colab_type": "code",
        "outputId": "bcb84b09-2aa8-4a40-d589-dfba6de9d6e1",
        "colab": {
          "base_uri": "https://localhost:8080/",
          "height": 121
        }
      },
      "source": [
        "model.to(device)"
      ],
      "execution_count": 0,
      "outputs": [
        {
          "output_type": "execute_result",
          "data": {
            "text/plain": [
              "RecipePredictor(\n",
              "  (embedding): Embedding(1153, 300)\n",
              "  (lstm): LSTM(300, 512)\n",
              "  (predictor): Linear(in_features=512, out_features=17, bias=True)\n",
              "  (non_linearity): ReLU()\n",
              ")"
            ]
          },
          "metadata": {
            "tags": []
          },
          "execution_count": 20
        }
      ]
    },
    {
      "cell_type": "code",
      "metadata": {
        "id": "m4-G8nsMw_yC",
        "colab_type": "code",
        "colab": {}
      },
      "source": [
        "def put_elements_to_device(a,b,c,device):\n",
        "    print(\"put things on cuda\")\n",
        "    return a.to(device), b.to(device), c.to(device)"
      ],
      "execution_count": 0,
      "outputs": []
    },
    {
      "cell_type": "code",
      "metadata": {
        "id": "K_AIg_EfxEGI",
        "colab_type": "code",
        "colab": {}
      },
      "source": [
        "!pip install -q tb-nightly\n",
        "\n",
        "# Load the TensorBoard notebook extension\n",
        "%load_ext tensorboard"
      ],
      "execution_count": 0,
      "outputs": []
    },
    {
      "cell_type": "code",
      "metadata": {
        "id": "dqaoUggYxHN8",
        "colab_type": "code",
        "colab": {}
      },
      "source": [
        "from torch.utils.tensorboard import SummaryWriter\n",
        "writer = SummaryWriter()"
      ],
      "execution_count": 0,
      "outputs": []
    },
    {
      "cell_type": "code",
      "metadata": {
        "id": "upzCHjdDxKfh",
        "colab_type": "code",
        "colab": {}
      },
      "source": [
        "for epoch in range(num_epoch):\n",
        "    running_loss = 0\n",
        "    \n",
        "    model.init_hidden()\n",
        "    for idx,(X,X_len,y) in enumerate(train_data_loader):\n",
        "        print(\"starting guys\")\n",
        "        model.zero_grad()\n",
        "        \n",
        "        # X, X_len, y = put_elements_to_device(a=X, b=torch.tensor(X_len), c=y, device=device)\n",
        "        X = X.cuda()\n",
        "        # y = y.cuda()\n",
        "\n",
        "        prediction = model(X, X_len)\n",
        "        loss = criterion(prediction, y)\n",
        "        loss.backward(retain_graph=True)\n",
        "        optimizer.step()\n",
        "        running_loss += loss.item()\n",
        "        if idx % 100 == 0:\n",
        "            print(\"epoch {} loss {}\".format(epoch, running_loss))\n",
        "        writer.add_scalar('Loss/train', loss.item(), idx)\n",
        "    # validation set is still left to create\n",
        "    # Now to test the validation set\n",
        "    correct = 0\n",
        "    total = 0\n",
        "    with torch.no_grad():\n",
        "        for idx,(X,X_len,y) in enumerate(test_data_loader):\n",
        "            X, X_len, y = put_elements_to_device(a=X, b=torch.tensor(X_len), c=y, device=device)\n",
        "            outputs = model(X,X_len)\n",
        "            _, predicted = torch.max(outputs.data, 1)\n",
        "            total += X.size(0)\n",
        "            correct += (predicted == y).sum().item()\n",
        "        writer.add_scalar('Loss/train', loss.item(), idx)\n",
        "    print('Accuracy of the network on the test samples: %d %%' % (\n",
        "        100 * correct / total))\n",
        "        \n",
        "            "
      ],
      "execution_count": 0,
      "outputs": []
    },
    {
      "cell_type": "code",
      "metadata": {
        "id": "KRsG_xSgxLUM",
        "colab_type": "code",
        "colab": {}
      },
      "source": [
        "# !pip install tensorboard\n",
        "%load_ext tensorboard\n",
        "%tensorboard --logdir runs"
      ],
      "execution_count": 0,
      "outputs": []
    },
    {
      "cell_type": "code",
      "metadata": {
        "id": "_FfhkBTky24z",
        "colab_type": "code",
        "colab": {}
      },
      "source": [
        "# !pip uninstall tensorboard\n",
        "# !pip install --force-reinstall tf-nightly-2.0-preview"
      ],
      "execution_count": 0,
      "outputs": []
    },
    {
      "cell_type": "code",
      "metadata": {
        "id": "C9DxZm9Zzgmz",
        "colab_type": "code",
        "colab": {}
      },
      "source": [
        ""
      ],
      "execution_count": 0,
      "outputs": []
    }
  ]
}